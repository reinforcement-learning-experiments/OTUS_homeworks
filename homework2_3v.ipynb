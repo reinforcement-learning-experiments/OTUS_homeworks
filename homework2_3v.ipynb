{
 "cells": [
  {
   "cell_type": "markdown",
   "source": [
    "Домашнее задание\n",
    "Задача с конечным набором дискретных действий\n",
    "\n",
    "Цель:\n",
    "В процессе выполнения задания вы проведёте первичный анализ поставленной задачи и выберете подходящий алгоритм.\n",
    "Для успешного выполнения задания вам потребуется:\n",
    "\n",
    "понимание отличий между средами с дискретными и непрерывным набором действий;\n",
    "навык оценки задачи и выбора подходящего алгоритма;\n",
    "навык разработки несложных алгоритмов на Python;\n",
    "навык реализации нейронных сетей с использованием фреймворка PyTorch;\n",
    "навык отладки алгоритма и выбора оптимальных гиперпараметров.\n",
    "\n",
    "Описание/Пошаговая инструкция выполнения домашнего задания:\n",
    "Пошаговая инструкция:\n",
    "\n",
    "\n",
    "реализуйте алгоритм DQN с реплей буффером и мягким обновлением целевой сети;\n",
    "обучите агента в среде Lunar Lander;\n",
    "представьте исходный код, обученного агента и график средней награды за эпизод и средней наградой за 100 эпизодов по мере обучения агента."
   ],
   "metadata": {
    "collapsed": false
   }
  },
  {
   "cell_type": "code",
   "execution_count": 99,
   "outputs": [],
   "source": [
    "import gymnasium as gym\n",
    "\n",
    "import matplotlib.pyplot as plt\n",
    "import numpy as np\n",
    "from tqdm import tqdm\n",
    "from collections import namedtuple, deque\n",
    "import random\n",
    "from itertools import count\n",
    "\n",
    "import torch\n",
    "import torch.nn as nn\n",
    "import torch.optim as optim\n",
    "import torch.nn.functional as F\n",
    "\n",
    "device = torch.device(\"cuda\" if torch.cuda.is_available() else \"cpu\")"
   ],
   "metadata": {
    "collapsed": false,
    "ExecuteTime": {
     "start_time": "2024-01-08T20:18:16.088538Z",
     "end_time": "2024-01-08T20:18:16.169545Z"
    }
   }
  },
  {
   "cell_type": "code",
   "execution_count": 100,
   "outputs": [
    {
     "data": {
      "text/plain": "'0.29.1'"
     },
     "execution_count": 100,
     "metadata": {},
     "output_type": "execute_result"
    }
   ],
   "source": [
    "gym.__version__"
   ],
   "metadata": {
    "collapsed": false,
    "ExecuteTime": {
     "start_time": "2024-01-08T20:18:16.108537Z",
     "end_time": "2024-01-08T20:18:16.170538Z"
    }
   }
  },
  {
   "cell_type": "code",
   "execution_count": 101,
   "outputs": [
    {
     "data": {
      "text/plain": "<torch._C.Generator at 0x144b5d39c50>"
     },
     "execution_count": 101,
     "metadata": {},
     "output_type": "execute_result"
    }
   ],
   "source": [
    "torch.__version__\n",
    "torch.manual_seed(164)"
   ],
   "metadata": {
    "collapsed": false,
    "ExecuteTime": {
     "start_time": "2024-01-08T20:18:16.122546Z",
     "end_time": "2024-01-08T20:18:16.171537Z"
    }
   }
  },
  {
   "cell_type": "code",
   "execution_count": 102,
   "outputs": [
    {
     "data": {
      "text/plain": "True"
     },
     "execution_count": 102,
     "metadata": {},
     "output_type": "execute_result"
    }
   ],
   "source": [
    "torch.cuda.is_available()"
   ],
   "metadata": {
    "collapsed": false,
    "ExecuteTime": {
     "start_time": "2024-01-08T20:18:16.138538Z",
     "end_time": "2024-01-08T20:18:16.171537Z"
    }
   }
  },
  {
   "cell_type": "code",
   "execution_count": 103,
   "outputs": [],
   "source": [
    "Transition = namedtuple('Transition', ('state', 'action', 'next_state', 'reward'))\n",
    "class ReplayMemory(object):\n",
    "\n",
    "    def __init__(self, capacity):\n",
    "        self.memory = deque([], maxlen=capacity)\n",
    "\n",
    "    def push(self, *args):\n",
    "        self.memory.append(Transition(*args))\n",
    "\n",
    "    def sample(self, batch_size):\n",
    "        return random.sample(self.memory, batch_size)\n",
    "\n",
    "    def __len__(self):\n",
    "        return len(self.memory)"
   ],
   "metadata": {
    "collapsed": false,
    "ExecuteTime": {
     "start_time": "2024-01-08T20:18:16.156546Z",
     "end_time": "2024-01-08T20:18:16.171537Z"
    }
   }
  },
  {
   "cell_type": "code",
   "execution_count": 104,
   "outputs": [],
   "source": [
    "class DQN(nn.Module):\n",
    "    def __init__(self, observations_count, actions_count):\n",
    "        super(DQN, self).__init__()\n",
    "\n",
    "        l1 = 256\n",
    "        l2 = 256\n",
    "\n",
    "        self.layer1 = nn.Linear(observations_count, l1)\n",
    "        self.layer2 = nn.Linear(l1, l2)\n",
    "        self.layer3 = nn.Linear(l2, actions_count)\n",
    "\n",
    "    def forward(self, x):\n",
    "        x = F.relu(self.layer1(x))\n",
    "        x = F.relu(self.layer2(x))\n",
    "        return self.layer3(x)"
   ],
   "metadata": {
    "collapsed": false,
    "ExecuteTime": {
     "start_time": "2024-01-08T20:18:16.170538Z",
     "end_time": "2024-01-08T20:18:16.198544Z"
    }
   }
  },
  {
   "cell_type": "code",
   "execution_count": 105,
   "outputs": [],
   "source": [
    "class Agent:\n",
    "    def __init__(self):\n",
    "        self.steps_done = 0\n",
    "        self.epsilon = 1\n",
    "        self.epsilon_min = 0.05\n",
    "        self.epsilon_decay = 1000\n",
    "        self.gamma = 0.99\n",
    "        self.tau = 0.005\n",
    "        self.lr = 0.005\n",
    "        self.full_memory_length = 10000\n",
    "\n",
    "    def model(self, observations_count: int, actions_count: int):\n",
    "        return DQN(observations_count, actions_count).to(device)\n",
    "\n",
    "    def select_action(self, state):\n",
    "        agent.epsilon = max(agent.epsilon_min, agent.epsilon * agent.epsilon_decay)\n",
    "        self.steps_done += 1\n",
    "\n",
    "        # если случайный порог больше epsilon-порога\n",
    "        if random.uniform(0, 1) < self.epsilon:\n",
    "            with torch.no_grad():\n",
    "                return policy_net(state).max(1)[1].view(1, 1)\n",
    "        else:\n",
    "            return torch.tensor([[env.action_space.sample()]], device=device, dtype=torch.long)"
   ],
   "metadata": {
    "collapsed": false,
    "ExecuteTime": {
     "start_time": "2024-01-08T20:18:16.188553Z",
     "end_time": "2024-01-08T20:18:16.260543Z"
    }
   }
  },
  {
   "cell_type": "code",
   "execution_count": 106,
   "outputs": [],
   "source": [
    "agent = Agent()\n",
    "env = gym.make(\"LunarLander-v2\")\n",
    "\n",
    "state, info = env.reset()\n",
    "\n",
    "n_actions = env.action_space.n\n",
    "n_observations = len(state)\n",
    "\n",
    "policy_net = agent.model(n_observations, n_actions).to(device)\n",
    "target_net = agent.model(n_observations, n_actions).to(device)\n",
    "best_net = agent.model(n_observations, n_actions).to(device)\n",
    "\n",
    "optimizer = optim.AdamW(policy_net.parameters(), lr=agent.lr, amsgrad=True)\n",
    "memory = ReplayMemory(agent.full_memory_length)\n",
    "episode_durations = []"
   ],
   "metadata": {
    "collapsed": false,
    "ExecuteTime": {
     "start_time": "2024-01-08T20:18:16.202537Z",
     "end_time": "2024-01-08T20:18:16.333537Z"
    }
   }
  },
  {
   "cell_type": "code",
   "execution_count": 107,
   "outputs": [],
   "source": [
    "def optimize_model(batch_size: int):\n",
    "    if len(memory) < batch_size:\n",
    "        return\n",
    "\n",
    "    # Получить из памяти батч\n",
    "    transitions = memory.sample(batch_size)\n",
    "    # Преобразовать его в namedtuple\n",
    "    batch = Transition(*zip(*transitions))\n",
    "\n",
    "    # Вычислить маску нефинальных состояний и соединить элементы батча\n",
    "    # (финальным состоянием должно быть то, после которого моделирование закончилось)\n",
    "\n",
    "    non_final_mask = torch.tensor(tuple(map(lambda s: s is not None,\n",
    "                                            batch.next_state)), device=device, dtype=torch.bool)\n",
    "\n",
    "    non_final_next_states = torch.cat([s for s in batch.next_state if s is not None])\n",
    "\n",
    "    # Собираем батчи для состояний, действий и наград\n",
    "    state_batch = torch.cat(batch.state)\n",
    "    action_batch = torch.cat(batch.action)\n",
    "    reward_batch = torch.cat(batch.reward)\n",
    "\n",
    "    # Вычислить Q(s_t, a) - модель вычисляет Q(s_t),\n",
    "    # затем мы выбираем столбцы предпринятых действий.\n",
    "    # Это те действия, которые были бы предприняты для каждого состояния партии в соответствии с policy_net\n",
    "    state_action_values = policy_net(state_batch).gather(1, action_batch)\n",
    "\n",
    "    # Вычислить V(s_{t+1}) для всех следующих состояний.\n",
    "    # Ожидаемые значения действий для не_финальных_следующих_состояний вычисляются\n",
    "    # на основе \"старшей\" целевой_сети; выбирается их наилучшее вознаграждение с помощью max(1)[0].\n",
    "    # Это объединяется по маске, так что мы будем иметь либо ожидаемое значение состояния,\n",
    "    # либо 0, если состояние было финальным.\n",
    "    next_state_values = torch.zeros(batch_size, device=device)\n",
    "    with torch.no_grad():\n",
    "        next_state_values[non_final_mask] = target_net(non_final_next_states).max(1)[0]\n",
    "    # Вычисляем ожидаемые Q значения\n",
    "    expected_state_action_values = (next_state_values * agent.gamma) + reward_batch\n",
    "\n",
    "    # Объединяем все в общий лосс\n",
    "    criterion = nn.SmoothL1Loss()\n",
    "    loss = criterion(state_action_values, expected_state_action_values.unsqueeze(1))\n",
    "\n",
    "    # Готовим градиент\n",
    "    optimizer.zero_grad()\n",
    "    loss.backward()\n",
    "    # Обрезаем значения градиента - проблемма исчезающего/взрывающего градиента\n",
    "    torch.nn.utils.clip_grad_value_(policy_net.parameters(), 100)\n",
    "\n",
    "    optimizer.step()"
   ],
   "metadata": {
    "collapsed": false,
    "ExecuteTime": {
     "start_time": "2024-01-08T20:18:16.318537Z",
     "end_time": "2024-01-08T20:18:16.333537Z"
    }
   }
  },
  {
   "cell_type": "code",
   "execution_count": 108,
   "outputs": [
    {
     "name": "stderr",
     "output_type": "stream",
     "text": [
      "100%|██████████| 1500/1500 [45:39<00:00,  1.83s/it]"
     ]
    },
    {
     "name": "stdout",
     "output_type": "stream",
     "text": [
      "Complete\n"
     ]
    },
    {
     "name": "stderr",
     "output_type": "stream",
     "text": [
      "\n"
     ]
    }
   ],
   "source": [
    "num_episodes = 1500 if torch.cuda.is_available() else 500\n",
    "\n",
    "total_reward = []\n",
    "max_eposide_reward = 0\n",
    "\n",
    "for i_episode in tqdm(range(num_episodes)):\n",
    "    episode_reward = 0\n",
    "    state, info = env.reset() # environment reset\n",
    "    state = torch.tensor(state, dtype=torch.float32, device=device).unsqueeze(0)\n",
    "\n",
    "    for t in count(): # iterate until 'done'\n",
    "        action = agent.select_action(state)\n",
    "        observation, reward, terminated, truncated, _ = env.step(action.item())\n",
    "        episode_reward += reward\n",
    "\n",
    "        # присваиваем следующее состояние\n",
    "        next_state = None if terminated else torch.tensor(observation, dtype=torch.float32, device=device).unsqueeze(0)\n",
    "\n",
    "        # push into memory\n",
    "        memory.push(state, action, next_state, torch.tensor([reward], device=device))\n",
    "\n",
    "        # переходим на следующее состояние\n",
    "        state = next_state\n",
    "\n",
    "        # запускаем обучение сети\n",
    "        optimize_model(batch_size=128)\n",
    "\n",
    "        # делаем \"мягкое\" обновление весов\n",
    "        # θ′ ← τ θ + (1 −τ )θ′\n",
    "        target_net_state_dict = target_net.state_dict()\n",
    "        policy_net_state_dict = policy_net.state_dict()\n",
    "\n",
    "        for key in policy_net_state_dict:\n",
    "            target_net_state_dict[key] = policy_net_state_dict[key] * agent.tau + target_net_state_dict[key]  * (1 - agent.tau)\n",
    "        target_net.load_state_dict(target_net_state_dict)\n",
    "\n",
    "        # Если получили terminated or truncated завершаем эпизод обучения\n",
    "        if terminated or truncated:\n",
    "            # добавляем в массив продолжительность эпизода\n",
    "            episode_durations.append(t + 1)\n",
    "            total_reward.append(episode_reward)\n",
    "            break\n",
    "\n",
    "    # save best net\n",
    "    if max_eposide_reward < episode_reward:\n",
    "        max_eposide_reward = episode_reward\n",
    "        best_net.load_state_dict(policy_net.state_dict())\n",
    "\n",
    "print('Complete')"
   ],
   "metadata": {
    "collapsed": false,
    "ExecuteTime": {
     "start_time": "2024-01-08T20:18:16.330537Z",
     "end_time": "2024-01-08T21:03:55.365699Z"
    }
   }
  },
  {
   "cell_type": "code",
   "execution_count": 109,
   "outputs": [
    {
     "data": {
      "text/plain": "<Figure size 640x480 with 1 Axes>",
      "image/png": "[encoded data removed]"
     },
     "metadata": {},
     "output_type": "display_data"
    }
   ],
   "source": [
    "# show mean performance\n",
    "window_size = 100\n",
    "moving_avg = np.convolve(total_reward, np.ones(window_size) / window_size, mode='valid')\n",
    "plt.plot(moving_avg)\n",
    "plt.title('DQN + ReplayBuffer')\n",
    "plt.xlabel('Episode')\n",
    "plt.ylabel('Reward')\n",
    "plt.show()"
   ],
   "metadata": {
    "collapsed": false,
    "ExecuteTime": {
     "start_time": "2024-01-08T21:03:55.368701Z",
     "end_time": "2024-01-08T21:03:55.559223Z"
    }
   }
  },
  {
   "cell_type": "code",
   "execution_count": 111,
   "outputs": [
    {
     "name": "stdout",
     "output_type": "stream",
     "text": [
      "episode reward: -1.4975140303680579\n",
      "episode reward: -0.5516873387226464\n",
      "episode reward: -100\n",
      "episode reward: 100\n",
      "episode reward: 2.200977882941186\n",
      "episode reward: -0.29026118150436203\n",
      "episode reward: -100\n",
      "episode reward: -0.7515072383139689\n",
      "episode reward: -100\n",
      "episode reward: 100\n",
      "End.\n"
     ]
    }
   ],
   "source": [
    "# show performance of the best model\n",
    "env_human = gym.make(\"LunarLander-v2\", render_mode='human', max_episode_steps = 400)\n",
    "\n",
    "for i_episode in range(10):\n",
    "    observation, info = env_human.reset()\n",
    "\n",
    "    while True:\n",
    "        observation = torch.tensor(observation, dtype=torch.float32, device=device).unsqueeze(0)\n",
    "        action_human = best_net(observation).max(1)[1].view(1, 1)\n",
    "        observation, reward, terminated, truncated, _ = env_human.step(action_human.item())\n",
    "        episode_reward += reward\n",
    "\n",
    "        if terminated or truncated:\n",
    "            break\n",
    "\n",
    "    print(f'episode reward: {reward}')\n",
    "\n",
    "env_human.close()\n",
    "print('End.')"
   ],
   "metadata": {
    "collapsed": false,
    "ExecuteTime": {
     "start_time": "2024-01-08T21:07:21.231388Z",
     "end_time": "2024-01-08T21:08:29.116124Z"
    }
   }
  },
  {
   "cell_type": "code",
   "execution_count": 110,
   "outputs": [],
   "source": [],
   "metadata": {
    "collapsed": false,
    "ExecuteTime": {
     "start_time": "2024-01-08T21:04:57.960174Z",
     "end_time": "2024-01-08T21:04:57.976167Z"
    }
   }
  }
 ],
 "metadata": {
  "kernelspec": {
   "display_name": "Python 3",
   "language": "python",
   "name": "python3"
  },
  "language_info": {
   "codemirror_mode": {
    "name": "ipython",
    "version": 2
   },
   "file_extension": ".py",
   "mimetype": "text/x-python",
   "name": "python",
   "nbconvert_exporter": "python",
   "pygments_lexer": "ipython2",
   "version": "2.7.6"
  }
 },
 "nbformat": 4,
 "nbformat_minor": 0
}
