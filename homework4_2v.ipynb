{
 "cells": [
  {
   "cell_type": "markdown",
   "source": [
    "Домашнее задание\n",
    "Обучение Dyna-Q агента для стохастической среды\n",
    "\n",
    "Цель:\n",
    "Реализовать класс, моделирующий стохастическую среду Frozen Lake 8x8.\n",
    "Обучить агента Dyna-Q, использующего стохастическую модель среды и сравнить с простым Q-агентом."
   ],
   "metadata": {
    "collapsed": false
   }
  },
  {
   "cell_type": "code",
   "execution_count": 1,
   "outputs": [
    {
     "data": {
      "text/plain": "'0.29.1'"
     },
     "execution_count": 1,
     "metadata": {},
     "output_type": "execute_result"
    }
   ],
   "source": [
    "import gymnasium as gym\n",
    "import numpy as np\n",
    "import random\n",
    "\n",
    "gym.__version__"
   ],
   "metadata": {
    "collapsed": false,
    "ExecuteTime": {
     "start_time": "2024-01-29T23:16:59.005893Z",
     "end_time": "2024-01-29T23:17:01.161757Z"
    }
   }
  },
  {
   "cell_type": "code",
   "execution_count": 2,
   "outputs": [],
   "source": [
    "def test(env, qTable, numTests):\n",
    "    cumReward = 0\n",
    "    #### now test game with that table a few times\n",
    "    for i in range(numTests):\n",
    "        state, _ = env.reset()\n",
    "\n",
    "        while True:\n",
    "            env.render()\n",
    "            newState, reward, done, truncated, _ = env.step(np.argmax(qTable[state,:]))\n",
    "            state = newState\n",
    "            cumReward += reward\n",
    "            if done or truncated:\n",
    "                break\n",
    "    avgReward = cumReward / numTests\n",
    "    print(f\"average reward = {avgReward}\")\n",
    "\n",
    "    return avgReward"
   ],
   "metadata": {
    "collapsed": false,
    "ExecuteTime": {
     "start_time": "2024-01-29T23:17:01.164758Z",
     "end_time": "2024-01-29T23:17:01.167758Z"
    }
   }
  },
  {
   "cell_type": "code",
   "execution_count": 3,
   "outputs": [],
   "source": [
    "def learn(env, numEpisodes, alpha, epsilon, algorithm):\n",
    "    #### declare q-table with zero values\n",
    "    totEpisodes = numEpisodes\n",
    "    testingArray = []\n",
    "    table = np.zeros((env.observation_space.n, env.action_space.n))\n",
    "    model = np.zeros((env.observation_space.n, env.action_space.n, env.observation_space.n))\n",
    "    rewards = np.zeros(env.observation_space.n)\n",
    "    history = []\n",
    "    uniqueHistory = set()\n",
    "    epsIncrement = (epsilon - .001) / numEpisodes\n",
    "    alphaIncrement = (alpha - .008) / numEpisodes\n",
    "    while not numEpisodes == 0:\n",
    "        if numEpisodes % 100 == 0:\n",
    "            testingArray.append ((totEpisodes - numEpisodes, test(env, table, 100)))\n",
    "        #alpha -= .0001\n",
    "        #### epsilon decay\n",
    "        #epsilon -= epsIncrement\n",
    "        #### reduce number of remaining episodes\n",
    "        numEpisodes -= 1\n",
    "        #### copy result of episode to qTable\n",
    "        if algorithm == dynaQ:\n",
    "            table, model, history, uniqueHistory, rewards = algorithm(env, table, .1, epsilon, model, history, uniqueHistory, rewards)\n",
    "        else:\n",
    "            alpha -= alphaIncrement\n",
    "\n",
    "            table = algorithm(env, table, alpha, epsilon)\n",
    "    #print(qTable)\n",
    "    return table, testingArray\n",
    "\n",
    "def pickAction(epsilon, state, env, table):\n",
    "    if np.random.uniform() < epsilon:\n",
    "        action = env.action_space.sample()\n",
    "    else:\n",
    "        #### if all table thinks all actions are the same, pick a random one\n",
    "        maxVal = np.max(table[state, :])\n",
    "        if np.count_nonzero(table[state, : ] == maxVal) > 1:\n",
    "            action = env.action_space.sample()\n",
    "        else:\n",
    "            action = np.argmax(table[state, :])\n",
    "    #print(action)\n",
    "    return action"
   ],
   "metadata": {
    "collapsed": false,
    "ExecuteTime": {
     "start_time": "2024-01-29T23:17:01.173757Z",
     "end_time": "2024-01-29T23:17:01.230758Z"
    }
   }
  },
  {
   "cell_type": "markdown",
   "source": [
    "<img src=\"https://publish-01.obsidian.md/access/fc5a2dd092cb06eefdd04ff307334d7a/_attachments/Tabular%20Dyna-Q.png\" />"
   ],
   "metadata": {
    "collapsed": false
   }
  },
  {
   "cell_type": "code",
   "execution_count": 4,
   "outputs": [],
   "source": [
    "# https://notesonai.com/Dyna-Q+-+Planning+and+Learning\n",
    "def dynaQ(env, table, alpha, epsilon, model, history, uniqueHistory, rewards):\n",
    "    state, _ = env.reset()\n",
    "    done = False\n",
    "    truncated = False\n",
    "    steps = 0\n",
    "    gamma = 0.92\n",
    "\n",
    "    while not(done or truncated or steps >= 200):\n",
    "        steps += 1\n",
    "        action = pickAction(epsilon, state, env, table)\n",
    "\n",
    "        newState, reward, done, truncated, _ = env.step(action)\n",
    "\n",
    "        rewards[newState] = reward\n",
    "\n",
    "        history.append((state, action, newState))\n",
    "        uniqueHistory.add((state, action, newState))\n",
    "\n",
    "        if len(history) >= 200:\n",
    "            history.pop(0)\n",
    "\n",
    "        #### find expected value of this state/action/newState combination from history\n",
    "        actionInStateCount = 0\n",
    "        thisResultCount = 0\n",
    "        for s, a, sPrime in history:\n",
    "            if s == state and a == action:\n",
    "                actionInStateCount += 1\n",
    "                if sPrime == newState:\n",
    "                    thisResultCount += 1\n",
    "        model[state, action, newState] = thisResultCount / actionInStateCount\n",
    "        #### update qTable\n",
    "        if not done or not truncated:\n",
    "            table[state, action] += alpha * (reward + gamma * np.max(table[newState,:]) - table[state, action])\n",
    "        else:\n",
    "            table[state, action] += alpha * (reward - table[state, action])\n",
    "        #### planning!\n",
    "        for i in range (len(history)//5):\n",
    "\n",
    "            #### pick random state/action that has previously been taken\n",
    "            past = random.sample(list(uniqueHistory), k=1)\n",
    "            s = past[0][0]\n",
    "            a = past[0][1]\n",
    "            #sPrime = past[0][2]\n",
    "            #print(f\"state = {s}     action = {a}     newState = {sPrime}\")\n",
    "\n",
    "            #### get the expected newState from that state/action combination\n",
    "            sPrime = np.argmax(model[s, a, :])\n",
    "\n",
    "            #### update qTable with this state/action/newState combo\n",
    "            table[s, a] += alpha * (rewards[sPrime] + gamma * np.max(table[sPrime, :]) - table[s, a])\n",
    "        state = newState\n",
    "    table[state, action] = alpha * (reward - table[state, action])\n",
    "    return table, model, history, uniqueHistory, rewards"
   ],
   "metadata": {
    "collapsed": false,
    "ExecuteTime": {
     "start_time": "2024-01-29T23:17:01.208757Z",
     "end_time": "2024-01-29T23:17:01.258757Z"
    }
   }
  },
  {
   "cell_type": "markdown",
   "source": [
    "<img src=\"https://publish-01.obsidian.md/access/fc5a2dd092cb06eefdd04ff307334d7a/_attachments/Q-Planning.png\" />"
   ],
   "metadata": {
    "collapsed": false
   }
  },
  {
   "cell_type": "code",
   "execution_count": 5,
   "outputs": [],
   "source": [
    "def qLearning(env, table, alpha, epsilon):\n",
    "    state, _ = env.reset()\n",
    "    done = False\n",
    "    truncated = False\n",
    "    gamma = .92\n",
    "    steps = 0\n",
    "    while not(done or truncated or steps >= 200):\n",
    "        #env.render()\n",
    "        steps += 1\n",
    "        #### choosing action\n",
    "        action = pickAction(epsilon, state, env, table)\n",
    "        if np.random.uniform() < epsilon:\n",
    "            action = env.action_space.sample()\n",
    "        else:\n",
    "            action = np.argmax(table[state,:])\n",
    "        #### take action, observe outcome\n",
    "        newState, reward, done, truncated, _ = env.step(action)\n",
    "        #### update\n",
    "        table[state, action] += alpha * (reward + gamma * np.max(table[newState,:]) - table[state, action])\n",
    "        state = newState\n",
    "    #print(table)\n",
    "    table[state, action] = reward\n",
    "    return table"
   ],
   "metadata": {
    "collapsed": false,
    "ExecuteTime": {
     "start_time": "2024-01-29T23:17:01.233810Z",
     "end_time": "2024-01-29T23:17:01.294757Z"
    }
   }
  },
  {
   "cell_type": "code",
   "execution_count": 6,
   "outputs": [],
   "source": [
    "def SARSA(env, table, alpha, epsilon):\n",
    "    state, _ = env.reset()\n",
    "    done = False\n",
    "    truncated = False\n",
    "    gamma = .92\n",
    "    steps = 0\n",
    "    action = pickAction(epsilon, state, env, table)\n",
    "\n",
    "    while not(done or truncated or steps >= 200):\n",
    "        steps += 1\n",
    "\n",
    "        newState, reward, done, truncated, _ = env.step(action)\n",
    "        newAction = pickAction(epsilon, newState, env, table)\n",
    "        '''if np.random.uniform() < epsilon:\n",
    "            newAction = env.action_space.sample()\n",
    "        else:\n",
    "            newAction = np.argmax(table[newState,:])'''\n",
    "        table[state, action] += alpha * (reward + gamma * table[newState, newAction] - table[state, action])\n",
    "        state = newState\n",
    "        action = newAction\n",
    "    return table"
   ],
   "metadata": {
    "collapsed": false,
    "ExecuteTime": {
     "start_time": "2024-01-29T23:17:01.259757Z",
     "end_time": "2024-01-29T23:17:01.295757Z"
    }
   }
  },
  {
   "cell_type": "code",
   "execution_count": 7,
   "outputs": [
    {
     "name": "stdout",
     "output_type": "stream",
     "text": [
      "--- QLearning:\n",
      "average reward = 0.0\n",
      "average reward = 0.0\n",
      "average reward = 0.11\n",
      "average reward = 0.25\n",
      "average reward = 0.21\n",
      "average reward = 0.24\n",
      "average reward = 0.23\n",
      "average reward = 0.23\n",
      "average reward = 0.7\n",
      "average reward = 0.68\n",
      "average reward = 0.75\n",
      "average reward = 0.69\n",
      "average reward = 0.75\n",
      "average reward = 0.75\n",
      "average reward = 0.63\n",
      "average reward = 0.66\n",
      "average reward = 0.67\n",
      "average reward = 0.72\n",
      "average reward = 0.78\n",
      "average reward = 0.38\n",
      "average reward = 0.29\n",
      "average reward = 0.65\n",
      "average reward = 0.68\n",
      "average reward = 0.59\n",
      "average reward = 0.4\n",
      "average reward = 0.54\n",
      "average reward = 0.67\n",
      "average reward = 0.76\n",
      "average reward = 0.7\n",
      "average reward = 0.64\n",
      "average reward = 0.74\n",
      "average reward = 0.76\n",
      "average reward = 0.65\n",
      "average reward = 0.73\n",
      "average reward = 0.68\n",
      "average reward = 0.69\n",
      "average reward = 0.6\n",
      "average reward = 0.67\n",
      "average reward = 0.7\n",
      "average reward = 0.6\n",
      "average reward = 0.61\n",
      "average reward = 0.67\n",
      "average reward = 0.51\n",
      "average reward = 0.6\n",
      "average reward = 0.78\n",
      "average reward = 0.68\n",
      "average reward = 0.76\n",
      "average reward = 0.73\n",
      "average reward = 0.55\n",
      "average reward = 0.51\n",
      "average reward = 0.52\n",
      "average reward = 0.52\n",
      "average reward = 0.52\n",
      "average reward = 0.66\n",
      "average reward = 0.75\n",
      "average reward = 0.79\n",
      "average reward = 0.74\n",
      "average reward = 0.75\n",
      "average reward = 0.74\n",
      "average reward = 0.74\n",
      "average reward = 0.73\n",
      "average reward = 0.69\n",
      "average reward = 0.51\n",
      "average reward = 0.6\n",
      "average reward = 0.79\n",
      "average reward = 0.8\n",
      "average reward = 0.81\n",
      "average reward = 0.74\n",
      "average reward = 0.67\n",
      "average reward = 0.71\n",
      "average reward = 0.18\n",
      "average reward = 0.18\n",
      "average reward = 0.21\n",
      "average reward = 0.29\n",
      "average reward = 0.55\n",
      "average reward = 0.44\n",
      "average reward = 0.59\n",
      "average reward = 0.54\n",
      "average reward = 0.67\n",
      "average reward = 0.75\n",
      "average reward = 0.64\n",
      "average reward = 0.71\n",
      "average reward = 0.73\n",
      "average reward = 0.73\n",
      "average reward = 0.74\n",
      "average reward = 0.65\n",
      "average reward = 0.81\n",
      "average reward = 0.63\n",
      "average reward = 0.8\n",
      "average reward = 0.74\n",
      "average reward = 0.65\n",
      "average reward = 0.71\n",
      "average reward = 0.7\n",
      "average reward = 0.77\n",
      "average reward = 0.75\n",
      "average reward = 0.72\n",
      "average reward = 0.73\n",
      "average reward = 0.79\n",
      "average reward = 0.65\n",
      "average reward = 0.79\n",
      "--- SARSA:\n",
      "average reward = 0.0\n",
      "average reward = 0.03\n",
      "average reward = 0.06\n",
      "average reward = 0.1\n",
      "average reward = 0.07\n",
      "average reward = 0.08\n",
      "average reward = 0.13\n",
      "average reward = 0.52\n",
      "average reward = 0.35\n",
      "average reward = 0.51\n",
      "average reward = 0.56\n",
      "average reward = 0.17\n",
      "average reward = 0.67\n",
      "average reward = 0.48\n",
      "average reward = 0.51\n",
      "average reward = 0.45\n",
      "average reward = 0.47\n",
      "average reward = 0.47\n",
      "average reward = 0.45\n",
      "average reward = 0.51\n",
      "average reward = 0.53\n",
      "average reward = 0.56\n",
      "average reward = 0.28\n",
      "average reward = 0.46\n",
      "average reward = 0.65\n",
      "average reward = 0.59\n",
      "average reward = 0.54\n",
      "average reward = 0.34\n",
      "average reward = 0.75\n",
      "average reward = 0.42\n",
      "average reward = 0.74\n",
      "average reward = 0.71\n",
      "average reward = 0.75\n",
      "average reward = 0.5\n",
      "average reward = 0.36\n",
      "average reward = 0.59\n",
      "average reward = 0.63\n",
      "average reward = 0.16\n",
      "average reward = 0.73\n",
      "average reward = 0.51\n",
      "average reward = 0.72\n",
      "average reward = 0.66\n",
      "average reward = 0.53\n",
      "average reward = 0.65\n",
      "average reward = 0.57\n",
      "average reward = 0.19\n",
      "average reward = 0.31\n",
      "average reward = 0.73\n",
      "average reward = 0.2\n",
      "average reward = 0.7\n",
      "average reward = 0.47\n",
      "average reward = 0.72\n",
      "average reward = 0.68\n",
      "average reward = 0.74\n",
      "average reward = 0.71\n",
      "average reward = 0.71\n",
      "average reward = 0.67\n",
      "average reward = 0.57\n",
      "average reward = 0.66\n",
      "average reward = 0.56\n",
      "average reward = 0.69\n",
      "average reward = 0.72\n",
      "average reward = 0.79\n",
      "average reward = 0.68\n",
      "average reward = 0.67\n",
      "average reward = 0.75\n",
      "average reward = 0.72\n",
      "average reward = 0.73\n",
      "average reward = 0.72\n",
      "average reward = 0.76\n",
      "average reward = 0.76\n",
      "average reward = 0.77\n",
      "average reward = 0.67\n",
      "average reward = 0.67\n",
      "average reward = 0.68\n",
      "average reward = 0.64\n",
      "average reward = 0.54\n",
      "average reward = 0.5\n",
      "average reward = 0.73\n",
      "average reward = 0.78\n",
      "average reward = 0.71\n",
      "average reward = 0.77\n",
      "average reward = 0.45\n",
      "average reward = 0.36\n",
      "average reward = 0.63\n",
      "average reward = 0.6\n",
      "average reward = 0.63\n",
      "average reward = 0.76\n",
      "average reward = 0.68\n",
      "average reward = 0.65\n",
      "average reward = 0.66\n",
      "average reward = 0.75\n",
      "average reward = 0.6\n",
      "average reward = 0.78\n",
      "average reward = 0.72\n",
      "average reward = 0.57\n",
      "average reward = 0.67\n",
      "average reward = 0.61\n",
      "average reward = 0.57\n",
      "average reward = 0.59\n",
      "--- DYNA-Q:\n",
      "average reward = 0.0\n",
      "average reward = 0.17\n",
      "average reward = 0.0\n",
      "average reward = 0.21\n",
      "average reward = 0.02\n",
      "average reward = 0.6\n",
      "average reward = 0.15\n",
      "average reward = 0.07\n",
      "average reward = 0.0\n",
      "average reward = 0.03\n",
      "average reward = 0.2\n",
      "average reward = 0.15\n",
      "average reward = 0.02\n",
      "average reward = 0.04\n",
      "average reward = 0.18\n",
      "average reward = 0.14\n",
      "average reward = 0.3\n",
      "average reward = 0.26\n",
      "average reward = 0.01\n",
      "average reward = 0.24\n",
      "average reward = 0.12\n",
      "average reward = 0.54\n",
      "average reward = 0.08\n",
      "average reward = 0.0\n",
      "average reward = 0.0\n",
      "average reward = 0.07\n",
      "average reward = 0.26\n",
      "average reward = 0.04\n",
      "average reward = 0.25\n",
      "average reward = 0.0\n",
      "average reward = 0.03\n",
      "average reward = 0.15\n",
      "average reward = 0.19\n",
      "average reward = 0.02\n",
      "average reward = 0.03\n",
      "average reward = 0.04\n",
      "average reward = 0.0\n",
      "average reward = 0.0\n",
      "average reward = 0.08\n",
      "average reward = 0.13\n",
      "average reward = 0.23\n",
      "average reward = 0.0\n",
      "average reward = 0.04\n",
      "average reward = 0.18\n",
      "average reward = 0.3\n",
      "average reward = 0.09\n",
      "average reward = 0.0\n",
      "average reward = 0.0\n",
      "average reward = 0.03\n",
      "average reward = 0.0\n",
      "average reward = 0.0\n",
      "average reward = 0.0\n",
      "average reward = 0.02\n",
      "average reward = 0.0\n",
      "average reward = 0.11\n",
      "average reward = 0.24\n",
      "average reward = 0.32\n",
      "average reward = 0.04\n",
      "average reward = 0.44\n",
      "average reward = 0.01\n",
      "average reward = 0.11\n",
      "average reward = 0.0\n",
      "average reward = 0.0\n",
      "average reward = 0.0\n",
      "average reward = 0.0\n",
      "average reward = 0.0\n",
      "average reward = 0.19\n",
      "average reward = 0.04\n",
      "average reward = 0.0\n",
      "average reward = 0.17\n",
      "average reward = 0.02\n",
      "average reward = 0.03\n",
      "average reward = 0.57\n",
      "average reward = 0.0\n",
      "average reward = 0.26\n",
      "average reward = 0.08\n",
      "average reward = 0.0\n",
      "average reward = 0.0\n",
      "average reward = 0.2\n",
      "average reward = 0.07\n",
      "average reward = 0.0\n",
      "average reward = 0.13\n",
      "average reward = 0.0\n",
      "average reward = 0.01\n",
      "average reward = 0.15\n",
      "average reward = 0.08\n",
      "average reward = 0.02\n",
      "average reward = 0.1\n",
      "average reward = 0.05\n",
      "average reward = 0.0\n",
      "average reward = 0.09\n",
      "average reward = 0.04\n",
      "average reward = 0.08\n",
      "average reward = 0.0\n",
      "average reward = 0.05\n",
      "average reward = 0.03\n",
      "average reward = 0.08\n",
      "average reward = 0.0\n",
      "average reward = 0.12\n",
      "average reward = 0.0\n"
     ]
    }
   ],
   "source": [
    "# FrozenLake-v1: 4x4. FrozenLake8x8-v1: 8x8.\n",
    "env_name = \"FrozenLake-v1\" # FrozenLake8x8-v1\n",
    "if __name__ == \"__main__\":\n",
    "    #### creation environment.\n",
    "    env = gym.make(env_name, render_mode=\"rgb_array\")\n",
    "\n",
    "    #### number of episodes with which to train\n",
    "    numEpisodes = 10000\n",
    "    #### alpha and epsilon declarations\n",
    "    alpha = .05\n",
    "    epsilon = .25\n",
    "    avgCumReward = 0\n",
    "\n",
    "    print('--- QLearning:')\n",
    "    qTable1, rewardGrowth1 = learn(env, numEpisodes, alpha, epsilon, qLearning)\n",
    "    np.savetxt(\"target/\" + env_name + \"-QLearning.csv\", np.asarray(rewardGrowth1), delimiter = \",\")\n",
    "\n",
    "    print('--- SARSA:')\n",
    "    qTable2, rewardGrowth2 = learn(env, numEpisodes, alpha, epsilon, SARSA)\n",
    "    np.savetxt(\"target/\" + env_name + \"-SARSA.csv\", np.asarray(rewardGrowth2), delimiter = \",\")\n",
    "\n",
    "    print('--- DYNA-Q:')\n",
    "    qTable3, rewardGrowth3 = learn(env, numEpisodes, alpha, epsilon, dynaQ)\n",
    "    np.savetxt(\"target/\" + env_name + \"-DynaQ.csv\", np.asarray(rewardGrowth3), delimiter = \",\")\n",
    "\n",
    "    env.close()"
   ],
   "metadata": {
    "collapsed": false,
    "ExecuteTime": {
     "start_time": "2024-01-29T23:17:01.288758Z",
     "end_time": "2024-01-29T23:27:05.246357Z"
    }
   }
  },
  {
   "cell_type": "code",
   "execution_count": 8,
   "outputs": [
    {
     "data": {
      "text/plain": "<Figure size 640x480 with 1 Axes>",
      "image/png": "[encoded data removed]"
     },
     "metadata": {},
     "output_type": "display_data"
    }
   ],
   "source": [
    "import matplotlib.pyplot as plt\n",
    "import numpy as np\n",
    "\n",
    "qLearning = np.loadtxt(\"target/\" + env_name + \"-QLearning.csv\", delimiter = \",\")\n",
    "SARSA = np.loadtxt(\"target/\" + env_name + \"-SARSA.csv\", delimiter = \",\")\n",
    "dynaQ = np.loadtxt(\"target/\" + env_name + \"-DynaQ.csv\", delimiter = \",\")\n",
    "\n",
    "plt.plot(qLearning[:,0], qLearning[:,1], label = \"Q-Learning\", color = 'red')\n",
    "plt.plot(SARSA[:,0], SARSA[:,1], label = \"SARSA\", color = 'green')\n",
    "plt.plot(dynaQ[:, 0], dynaQ[:, 1], label = \"DYNA-Q\", color = 'blue')\n",
    "\n",
    "plt.title(\"Reward Growth over \" + str(numEpisodes) + \" Episodes\")\n",
    "plt.xlabel(\"Number of Episodes\")\n",
    "plt.ylabel(\"Avg Reward Over 100 Tests\")\n",
    "plt.legend()\n",
    "plt.show()"
   ],
   "metadata": {
    "collapsed": false,
    "ExecuteTime": {
     "start_time": "2024-01-29T23:27:05.251356Z",
     "end_time": "2024-01-29T23:27:06.084362Z"
    }
   }
  },
  {
   "cell_type": "code",
   "execution_count": 9,
   "outputs": [
    {
     "name": "stdout",
     "output_type": "stream",
     "text": [
      "average reward = 1.0\n"
     ]
    },
    {
     "data": {
      "text/plain": "1.0"
     },
     "execution_count": 9,
     "metadata": {},
     "output_type": "execute_result"
    }
   ],
   "source": [
    "# -- QTable\n",
    "env = gym.make(env_name, render_mode='human') # FrozenLake8x8-v1\n",
    "test(env, qTable1, 1)\n",
    "env.close()"
   ],
   "metadata": {
    "collapsed": false,
    "ExecuteTime": {
     "start_time": "2024-01-29T23:27:06.087359Z",
     "end_time": "2024-01-29T23:27:27.282835Z"
    }
   }
  },
  {
   "cell_type": "code",
   "execution_count": 10,
   "outputs": [
    {
     "name": "stdout",
     "output_type": "stream",
     "text": [
      "average reward = 0.0\n"
     ]
    },
    {
     "data": {
      "text/plain": "0.0"
     },
     "execution_count": 10,
     "metadata": {},
     "output_type": "execute_result"
    }
   ],
   "source": [
    "# -- SARSA\n",
    "env = gym.make(env_name, render_mode='human') # FrozenLake8x8-v1\n",
    "test(env, qTable2, 1)\n",
    "env.close()"
   ],
   "metadata": {
    "collapsed": false,
    "ExecuteTime": {
     "start_time": "2024-01-29T23:27:27.286837Z",
     "end_time": "2024-01-29T23:28:17.686247Z"
    }
   }
  },
  {
   "cell_type": "code",
   "execution_count": 11,
   "outputs": [
    {
     "name": "stdout",
     "output_type": "stream",
     "text": [
      "average reward = 0.0\n"
     ]
    },
    {
     "data": {
      "text/plain": "0.0"
     },
     "execution_count": 11,
     "metadata": {},
     "output_type": "execute_result"
    }
   ],
   "source": [
    "# -- DYNA-Q\n",
    "env = gym.make(env_name, render_mode='human') # FrozenLake8x8-v1\n",
    "test(env, qTable3, 1)\n",
    "env.close()"
   ],
   "metadata": {
    "collapsed": false,
    "ExecuteTime": {
     "start_time": "2024-01-29T23:28:17.689251Z",
     "end_time": "2024-01-29T23:28:26.483518Z"
    }
   }
  }
 ],
 "metadata": {
  "kernelspec": {
   "display_name": "Python 3",
   "language": "python",
   "name": "python3"
  },
  "language_info": {
   "codemirror_mode": {
    "name": "ipython",
    "version": 2
   },
   "file_extension": ".py",
   "mimetype": "text/x-python",
   "name": "python",
   "nbconvert_exporter": "python",
   "pygments_lexer": "ipython2",
   "version": "2.7.6"
  }
 },
 "nbformat": 4,
 "nbformat_minor": 0
}
